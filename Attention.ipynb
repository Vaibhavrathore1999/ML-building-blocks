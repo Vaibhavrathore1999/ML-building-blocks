{
  "nbformat": 4,
  "nbformat_minor": 0,
  "metadata": {
    "colab": {
      "provenance": [],
      "authorship_tag": "ABX9TyMGvqjkqXYsL/NqPCGzpLDA",
      "include_colab_link": true
    },
    "kernelspec": {
      "name": "python3",
      "display_name": "Python 3"
    },
    "language_info": {
      "name": "python"
    }
  },
  "cells": [
    {
      "cell_type": "markdown",
      "metadata": {
        "id": "view-in-github",
        "colab_type": "text"
      },
      "source": [
        "<a href=\"https://colab.research.google.com/github/Vaibhavrathore1999/ML-building-blocks/blob/main/Attention.ipynb\" target=\"_parent\"><img src=\"https://colab.research.google.com/assets/colab-badge.svg\" alt=\"Open In Colab\"/></a>"
      ]
    },
    {
      "cell_type": "markdown",
      "source": [
        "# All Four types of Attention"
      ],
      "metadata": {
        "id": "G_hFar_jmvi2"
      }
    },
    {
      "cell_type": "code",
      "source": [
        "import torch\n",
        "inputs = torch.tensor(\n",
        "        [[0.43, 0.15, 0.89], # Your (x^1)\n",
        "        [0.55, 0.87, 0.66], # journey (x^2)\n",
        "        [0.57, 0.85, 0.64], # starts (x^3)\n",
        "        [0.22, 0.58, 0.33], # with (x^4)\n",
        "        [0.77, 0.25, 0.10], # one (x^5)\n",
        "        [0.05, 0.80, 0.55]] # step (x^6)\n",
        "        )\n",
        "print(inputs.shape)"
      ],
      "metadata": {
        "colab": {
          "base_uri": "https://localhost:8080/"
        },
        "id": "On0pNQqQdCDh",
        "outputId": "28719e29-cc59-4aee-dbb3-57bd34d71ad8"
      },
      "execution_count": null,
      "outputs": [
        {
          "output_type": "stream",
          "name": "stdout",
          "text": [
            "torch.Size([6, 3])\n"
          ]
        }
      ]
    },
    {
      "cell_type": "code",
      "source": [
        "query=inputs[1]\n",
        "attn_scores_2=torch.empty(inputs.shape[0])\n",
        "print(attn_scores_2)"
      ],
      "metadata": {
        "colab": {
          "base_uri": "https://localhost:8080/"
        },
        "id": "MLwgpLk8kn2w",
        "outputId": "8d8f1233-4efe-4666-8290-e747d73493aa"
      },
      "execution_count": null,
      "outputs": [
        {
          "output_type": "stream",
          "name": "stdout",
          "text": [
            "tensor([ 0.0000e+00,  0.0000e+00,  1.5835e-43,  0.0000e+00, -1.1531e+01,\n",
            "         4.4844e-41])\n"
          ]
        }
      ]
    },
    {
      "cell_type": "code",
      "source": [
        "def softmax(x):\n",
        "  return torch.tensor([torch.exp(elem)/torch.sum(torch.exp(x),dim=0) for elem in x])"
      ],
      "metadata": {
        "id": "a2SVRHrhqEJF"
      },
      "execution_count": null,
      "outputs": []
    },
    {
      "cell_type": "code",
      "source": [
        "softmax(attn_scores_2)"
      ],
      "metadata": {
        "colab": {
          "base_uri": "https://localhost:8080/"
        },
        "id": "pO2YdPL5qg4E",
        "outputId": "79635667-e941-4626-b4da-14e876568d27"
      },
      "execution_count": null,
      "outputs": [
        {
          "output_type": "execute_result",
          "data": {
            "text/plain": [
              "tensor([2.0000e-01, 2.0000e-01, 2.0000e-01, 2.0000e-01, 1.9650e-06, 2.0000e-01])"
            ]
          },
          "metadata": {},
          "execution_count": 15
        }
      ]
    },
    {
      "cell_type": "markdown",
      "source": [
        "# Simplified Self-Attention"
      ],
      "metadata": {
        "id": "l6Ks0zFCqfNN"
      }
    },
    {
      "cell_type": "code",
      "source": [
        "for i ,x_i in enumerate(inputs):\n",
        "  attn_scores_2[i]=torch.dot(query,x_i)\n",
        "print(attn_scores_2)\n",
        "\n",
        "attn_scores_2_normalized=torch.softmax(attn_scores_2,dim=0)\n",
        "print(attn_scores_2_normalized)"
      ],
      "metadata": {
        "colab": {
          "base_uri": "https://localhost:8080/"
        },
        "id": "wrfsfIzNk9ph",
        "outputId": "1e7504f9-5f54-446c-9020-2f490aa932f9"
      },
      "execution_count": null,
      "outputs": [
        {
          "output_type": "stream",
          "name": "stdout",
          "text": [
            "tensor([0.9544, 1.4950, 1.4754, 0.8434, 0.7070, 1.0865])\n",
            "tensor([0.1385, 0.2379, 0.2333, 0.1240, 0.1082, 0.1581])\n"
          ]
        }
      ]
    },
    {
      "cell_type": "code",
      "source": [
        "query=inputs[1]\n",
        "context_vector_2=torch.zeros(query.shape[0])\n",
        "\n",
        "for i,x_i in enumerate(inputs):\n",
        "  context_vector_2+=x_i*attn_scores_2_normalized[i]\n",
        "print(context_vector_2)"
      ],
      "metadata": {
        "colab": {
          "base_uri": "https://localhost:8080/"
        },
        "id": "Rif_1ezDm-Pq",
        "outputId": "68629c6b-972c-44e4-e2a0-e3c5802b65e9"
      },
      "execution_count": null,
      "outputs": [
        {
          "output_type": "stream",
          "name": "stdout",
          "text": [
            "tensor([0.4419, 0.6515, 0.5683])\n"
          ]
        }
      ]
    },
    {
      "cell_type": "code",
      "source": [
        "print(inputs.shape)"
      ],
      "metadata": {
        "colab": {
          "base_uri": "https://localhost:8080/"
        },
        "id": "TTK2Tpm2sEX8",
        "outputId": "eb2cac59-c131-4815-ef78-f2dacd78eea9"
      },
      "execution_count": null,
      "outputs": [
        {
          "output_type": "stream",
          "name": "stdout",
          "text": [
            "torch.Size([6, 3])\n"
          ]
        }
      ]
    },
    {
      "cell_type": "markdown",
      "source": [
        "Attention Matrix will be (words,words) here (6,6)"
      ],
      "metadata": {
        "id": "-9mGUNfhsIEg"
      }
    },
    {
      "cell_type": "code",
      "source": [
        "attn_matrix=torch.zeros(inputs.shape[0],inputs.shape[0])\n",
        "for i in range(inputs.shape[0]):\n",
        "  for j in range(inputs.shape[0]):\n",
        "    attn_matrix[i,j]=torch.dot(inputs[i],inputs[j])\n",
        "print(attn_matrix)"
      ],
      "metadata": {
        "colab": {
          "base_uri": "https://localhost:8080/"
        },
        "id": "l622ZsQRoFiT",
        "outputId": "eef54536-dde0-42ca-ae16-1f8eb6f7ccfe"
      },
      "execution_count": null,
      "outputs": [
        {
          "output_type": "stream",
          "name": "stdout",
          "text": [
            "tensor([[0.9995, 0.9544, 0.9422, 0.4753, 0.4576, 0.6310],\n",
            "        [0.9544, 1.4950, 1.4754, 0.8434, 0.7070, 1.0865],\n",
            "        [0.9422, 1.4754, 1.4570, 0.8296, 0.7154, 1.0605],\n",
            "        [0.4753, 0.8434, 0.8296, 0.4937, 0.3474, 0.6565],\n",
            "        [0.4576, 0.7070, 0.7154, 0.3474, 0.6654, 0.2935],\n",
            "        [0.6310, 1.0865, 1.0605, 0.6565, 0.2935, 0.9450]])\n"
          ]
        }
      ]
    },
    {
      "cell_type": "code",
      "source": [
        "attn_matrix_normalized=torch.softmax(attn_matrix,dim=0) #/torch.sqrt(torch.tensor(inputs.shape[1]))\n",
        "print(attn_matrix_normalized)"
      ],
      "metadata": {
        "colab": {
          "base_uri": "https://localhost:8080/"
        },
        "id": "IbcVAhTvsviO",
        "outputId": "4ba17975-bc5e-47b9-adfc-03dd722f9418"
      },
      "execution_count": null,
      "outputs": [
        {
          "output_type": "stream",
          "name": "stdout",
          "text": [
            "tensor([[0.2098, 0.1385, 0.1390, 0.1435, 0.1526, 0.1385],\n",
            "        [0.2006, 0.2379, 0.2369, 0.2074, 0.1958, 0.2184],\n",
            "        [0.1981, 0.2333, 0.2326, 0.2046, 0.1975, 0.2128],\n",
            "        [0.1242, 0.1240, 0.1242, 0.1462, 0.1367, 0.1420],\n",
            "        [0.1220, 0.1082, 0.1108, 0.1263, 0.1879, 0.0988],\n",
            "        [0.1452, 0.1581, 0.1565, 0.1720, 0.1295, 0.1896]])\n"
          ]
        }
      ]
    },
    {
      "cell_type": "code",
      "source": [
        "attn_scores=inputs@inputs.T\n",
        "print(attn_scores)"
      ],
      "metadata": {
        "colab": {
          "base_uri": "https://localhost:8080/"
        },
        "id": "kOufi4T9tPz8",
        "outputId": "6eb51fe1-62e6-40ed-c743-eda85a649418"
      },
      "execution_count": null,
      "outputs": [
        {
          "output_type": "stream",
          "name": "stdout",
          "text": [
            "tensor([[0.9995, 0.9544, 0.9422, 0.4753, 0.4576, 0.6310],\n",
            "        [0.9544, 1.4950, 1.4754, 0.8434, 0.7070, 1.0865],\n",
            "        [0.9422, 1.4754, 1.4570, 0.8296, 0.7154, 1.0605],\n",
            "        [0.4753, 0.8434, 0.8296, 0.4937, 0.3474, 0.6565],\n",
            "        [0.4576, 0.7070, 0.7154, 0.3474, 0.6654, 0.2935],\n",
            "        [0.6310, 1.0865, 1.0605, 0.6565, 0.2935, 0.9450]])\n"
          ]
        }
      ]
    },
    {
      "cell_type": "code",
      "source": [
        "print(attn_scores.shape)"
      ],
      "metadata": {
        "colab": {
          "base_uri": "https://localhost:8080/"
        },
        "id": "CyjhZFvXuaeJ",
        "outputId": "a55b8b6b-44ea-487f-9c97-5df806ec2318"
      },
      "execution_count": null,
      "outputs": [
        {
          "output_type": "stream",
          "name": "stdout",
          "text": [
            "torch.Size([6, 6])\n"
          ]
        }
      ]
    },
    {
      "cell_type": "code",
      "source": [
        "attn_weights = torch.softmax(attn_scores, dim=-1)\n",
        "print(attn_weights)"
      ],
      "metadata": {
        "colab": {
          "base_uri": "https://localhost:8080/"
        },
        "id": "TkZY_a0Yt9Ea",
        "outputId": "9b2c29fd-847b-4b58-9f1c-2a39bfef5d6d"
      },
      "execution_count": null,
      "outputs": [
        {
          "output_type": "stream",
          "name": "stdout",
          "text": [
            "tensor([[0.2098, 0.2006, 0.1981, 0.1242, 0.1220, 0.1452],\n",
            "        [0.1385, 0.2379, 0.2333, 0.1240, 0.1082, 0.1581],\n",
            "        [0.1390, 0.2369, 0.2326, 0.1242, 0.1108, 0.1565],\n",
            "        [0.1435, 0.2074, 0.2046, 0.1462, 0.1263, 0.1720],\n",
            "        [0.1526, 0.1958, 0.1975, 0.1367, 0.1879, 0.1295],\n",
            "        [0.1385, 0.2184, 0.2128, 0.1420, 0.0988, 0.1896]])\n"
          ]
        }
      ]
    },
    {
      "cell_type": "code",
      "source": [
        "s_=torch.sum(attn_weights,dim=1)\n",
        "print(s_)"
      ],
      "metadata": {
        "colab": {
          "base_uri": "https://localhost:8080/"
        },
        "id": "l9UdtmnTuMQx",
        "outputId": "22b79738-a184-42e8-e893-f49e24106d7a"
      },
      "execution_count": null,
      "outputs": [
        {
          "output_type": "stream",
          "name": "stdout",
          "text": [
            "tensor([1.0000, 1.0000, 1.0000, 1.0000, 1.0000, 1.0000])\n"
          ]
        }
      ]
    },
    {
      "cell_type": "code",
      "source": [
        "context_vectors=attn_weights@inputs"
      ],
      "metadata": {
        "id": "DqPk3hM1zfs-"
      },
      "execution_count": null,
      "outputs": []
    },
    {
      "cell_type": "code",
      "source": [
        "print(context_vectors)"
      ],
      "metadata": {
        "colab": {
          "base_uri": "https://localhost:8080/"
        },
        "id": "lxNybJzA0Kae",
        "outputId": "538a63ae-00aa-4415-de59-24487075ec15"
      },
      "execution_count": null,
      "outputs": [
        {
          "output_type": "stream",
          "name": "stdout",
          "text": [
            "tensor([[0.4421, 0.5931, 0.5790],\n",
            "        [0.4419, 0.6515, 0.5683],\n",
            "        [0.4431, 0.6496, 0.5671],\n",
            "        [0.4304, 0.6298, 0.5510],\n",
            "        [0.4671, 0.5910, 0.5266],\n",
            "        [0.4177, 0.6503, 0.5645]])\n"
          ]
        }
      ]
    },
    {
      "cell_type": "markdown",
      "source": [
        "# Self-Attention"
      ],
      "metadata": {
        "id": "80tsX24T05DG"
      }
    },
    {
      "cell_type": "code",
      "source": [
        "torch.manual_seed(123)\n",
        "x_2=inputs[1]\n",
        "print(x_2)\n",
        "d_in=x_2.shape[0]\n",
        "d_out=2\n",
        "print(d_in)\n",
        "W_q=torch.randn(d_in,d_out)\n",
        "W_k=torch.randn(d_in,d_out)\n",
        "W_v=torch.randn(d_in,d_out)\n",
        "\n",
        "query_2=x_2@W_q\n",
        "print(query_2)\n",
        "key_2=x_2@W_k\n",
        "print(key_2)\n",
        "value_2=x_2@W_v\n",
        "print(value_2)"
      ],
      "metadata": {
        "colab": {
          "base_uri": "https://localhost:8080/"
        },
        "id": "Sluky4Ix0Vox",
        "outputId": "0046595f-be51-4b4f-a3f5-027ae30b7981"
      },
      "execution_count": null,
      "outputs": [
        {
          "output_type": "stream",
          "name": "stdout",
          "text": [
            "tensor([0.5500, 0.8700, 0.6600])\n",
            "3\n",
            "tensor([-1.1729, -0.0048])\n",
            "tensor([-0.1142, -0.7676])\n",
            "tensor([0.4107, 0.6274])\n"
          ]
        }
      ]
    },
    {
      "cell_type": "code",
      "source": [
        "import torch.nn as nn\n",
        "W_q=nn.Parameter(W_q)\n",
        "W_k=nn.Parameter(W_k)\n",
        "W_v=nn.Parameter(W_v)"
      ],
      "metadata": {
        "id": "mptEWtlk176T"
      },
      "execution_count": null,
      "outputs": []
    },
    {
      "cell_type": "code",
      "source": [
        "query=inputs@W_q\n",
        "key=inputs@W_k\n",
        "value=inputs@W_v\n",
        "print(query)\n",
        "print(key)\n",
        "print(value)"
      ],
      "metadata": {
        "colab": {
          "base_uri": "https://localhost:8080/"
        },
        "id": "fdb5OfPF29-z",
        "outputId": "a6213d37-4280-447d-b84e-5419a8a3b8fa"
      },
      "execution_count": null,
      "outputs": [
        {
          "output_type": "stream",
          "name": "stdout",
          "text": [
            "tensor([[-1.1686,  0.2019],\n",
            "        [-1.1729, -0.0048],\n",
            "        [-1.1438, -0.0018],\n",
            "        [-0.6339, -0.0439],\n",
            "        [-0.2979,  0.0535],\n",
            "        [-0.9596, -0.0712]], grad_fn=<MmBackward0>)\n",
            "tensor([[-0.1823, -0.6888],\n",
            "        [-0.1142, -0.7676],\n",
            "        [-0.1443, -0.7728],\n",
            "        [ 0.0434, -0.3580],\n",
            "        [-0.6467, -0.6476],\n",
            "        [ 0.3262, -0.3395]], grad_fn=<MmBackward0>)\n",
            "tensor([[ 0.1196, -0.3566],\n",
            "        [ 0.4107,  0.6274],\n",
            "        [ 0.4091,  0.6390],\n",
            "        [ 0.2436,  0.4182],\n",
            "        [ 0.2653,  0.6668],\n",
            "        [ 0.2728,  0.3242]], grad_fn=<MmBackward0>)\n"
          ]
        }
      ]
    },
    {
      "cell_type": "code",
      "source": [
        "print(W_k.requires_grad)\n",
        "print(W_q.requires_grad)\n",
        "print(W_v.requires_grad)"
      ],
      "metadata": {
        "colab": {
          "base_uri": "https://localhost:8080/"
        },
        "id": "5L8XdV8A3FRq",
        "outputId": "9d81e41c-6889-4064-a4ed-13203088564f"
      },
      "execution_count": null,
      "outputs": [
        {
          "output_type": "stream",
          "name": "stdout",
          "text": [
            "True\n",
            "True\n",
            "True\n"
          ]
        }
      ]
    },
    {
      "cell_type": "code",
      "source": [
        "print(query.shape)\n",
        "print(key.shape)\n",
        "print(value.shape)\n",
        "attn_matrix_trainable=query@key.T\n",
        "print(attn_matrix_trainable)\n",
        "print(attn_matrix_trainable.shape)"
      ],
      "metadata": {
        "colab": {
          "base_uri": "https://localhost:8080/"
        },
        "id": "JdcgTMG03Zq_",
        "outputId": "c189d060-dc00-4224-f361-2c0a69b81913"
      },
      "execution_count": null,
      "outputs": [
        {
          "output_type": "stream",
          "name": "stdout",
          "text": [
            "torch.Size([6, 2])\n",
            "torch.Size([6, 2])\n",
            "torch.Size([6, 2])\n",
            "tensor([[ 0.0740, -0.0216,  0.0126, -0.1230,  0.6250, -0.4498],\n",
            "        [ 0.2172,  0.1376,  0.1730, -0.0491,  0.7616, -0.3809],\n",
            "        [ 0.2098,  0.1320,  0.1665, -0.0489,  0.7408, -0.3725],\n",
            "        [ 0.1458,  0.1061,  0.1254, -0.0118,  0.4384, -0.1919],\n",
            "        [ 0.0175, -0.0071,  0.0017, -0.0321,  0.1580, -0.1153],\n",
            "        [ 0.2240,  0.1642,  0.1935, -0.0161,  0.6667, -0.2888]],\n",
            "       grad_fn=<MmBackward0>)\n",
            "torch.Size([6, 6])\n"
          ]
        }
      ]
    },
    {
      "cell_type": "code",
      "source": [
        "attn_matrix_trainable=torch.softmax(attn_matrix_trainable/(torch.sqrt(torch.tensor(d_out))),dim=1)\n",
        "print(attn_matrix_trainable)"
      ],
      "metadata": {
        "colab": {
          "base_uri": "https://localhost:8080/"
        },
        "id": "g3UJZ2ZE4FkD",
        "outputId": "cd0b5a4c-0131-4467-d53b-eb824dd8786e"
      },
      "execution_count": null,
      "outputs": [
        {
          "output_type": "stream",
          "name": "stdout",
          "text": [
            "tensor([[0.1687, 0.1576, 0.1615, 0.1467, 0.2490, 0.1165],\n",
            "        [0.1704, 0.1611, 0.1652, 0.1412, 0.2505, 0.1117],\n",
            "        [0.1704, 0.1613, 0.1653, 0.1419, 0.2481, 0.1129],\n",
            "        [0.1704, 0.1656, 0.1679, 0.1524, 0.2095, 0.1342],\n",
            "        [0.1680, 0.1651, 0.1661, 0.1622, 0.1856, 0.1529],\n",
            "        [0.1711, 0.1640, 0.1675, 0.1444, 0.2340, 0.1191]],\n",
            "       grad_fn=<SoftmaxBackward0>)\n"
          ]
        }
      ]
    },
    {
      "cell_type": "code",
      "source": [
        "context_vectors_attended=attn_matrix_trainable@value\n",
        "print(context_vectors_attended)"
      ],
      "metadata": {
        "colab": {
          "base_uri": "https://localhost:8080/"
        },
        "id": "unP7basg5HVI",
        "outputId": "eeab5029-b48b-4f7d-ce78-f22b42860a4b"
      },
      "execution_count": null,
      "outputs": [
        {
          "output_type": "stream",
          "name": "stdout",
          "text": [
            "tensor([[0.2845, 0.4071],\n",
            "        [0.2854, 0.4081],\n",
            "        [0.2854, 0.4075],\n",
            "        [0.2864, 0.3974],\n",
            "        [0.2863, 0.3910],\n",
            "        [0.2860, 0.4039]], grad_fn=<MmBackward0>)\n"
          ]
        }
      ]
    },
    {
      "cell_type": "markdown",
      "source": [
        "# Self-Attention Class"
      ],
      "metadata": {
        "id": "tmD4eDXO5-il"
      }
    },
    {
      "cell_type": "code",
      "source": [
        "import torch.nn as nn\n",
        "class SelfAttention_v1(nn.Module):\n",
        "  def __init__(self,d_in,d_out) -> None:\n",
        "    super().__init__()\n",
        "    self.d_out=d_out\n",
        "    self.W_q=nn.Parameter(torch.randn(d_in,d_out))\n",
        "    self.W_k=nn.Parameter(torch.randn(d_in,d_out))\n",
        "    self.W_v=nn.Parameter(torch.randn(d_in,d_out))\n",
        "  def forward(self,x):\n",
        "    query=x@self.W_q\n",
        "    key=x@self.W_k\n",
        "    value=x@self.W_v\n",
        "    attn_matrix=query@key.T\n",
        "    attn_matrix==torch.softmax(attn_matrix/(self.d_out**(0.5)),dim=-1)\n",
        "    context_vec=attn_matrix@value\n",
        "    return context_vec\n"
      ],
      "metadata": {
        "id": "AGVnVyk56Bfs"
      },
      "execution_count": null,
      "outputs": []
    },
    {
      "cell_type": "code",
      "source": [
        "attn=SelfAttention_v1(d_in=3,d_out=2)\n",
        "print(attn)"
      ],
      "metadata": {
        "colab": {
          "base_uri": "https://localhost:8080/"
        },
        "id": "DmbNhpOJ5Wd5",
        "outputId": "1b3a6a2b-9a3e-47c2-e9dc-8d466aa2bf0a"
      },
      "execution_count": null,
      "outputs": [
        {
          "output_type": "stream",
          "name": "stdout",
          "text": [
            "SelfAttention_v1()\n"
          ]
        }
      ]
    },
    {
      "cell_type": "code",
      "source": [
        "context_vec=attn(inputs)\n",
        "print(context_vec)"
      ],
      "metadata": {
        "colab": {
          "base_uri": "https://localhost:8080/"
        },
        "id": "W-YsHcnH8Ngo",
        "outputId": "b3d7e5c7-ea53-460b-8947-1f38c29e6186"
      },
      "execution_count": null,
      "outputs": [
        {
          "output_type": "stream",
          "name": "stdout",
          "text": [
            "tensor([[ 0.3697,  0.6248],\n",
            "        [ 0.0168, -0.3025],\n",
            "        [ 0.0228, -0.2873],\n",
            "        [-0.0655, -0.3330],\n",
            "        [ 0.1244,  0.0671],\n",
            "        [-0.1187, -0.4817]], grad_fn=<MmBackward0>)\n"
          ]
        }
      ]
    },
    {
      "cell_type": "code",
      "source": [
        "import torch.nn as nn\n",
        "class SelfAttention_v2(nn.Module):\n",
        "  def __init__(self,d_in,d_out,bias=False) -> None:\n",
        "    super().__init__()\n",
        "    self.W_q=nn.Linear(d_in,d_out,bias=bias)\n",
        "    self.W_k=nn.Linear(d_in,d_out,bias=bias)\n",
        "    self.W_v=nn.Linear(d_in,d_out,bias=bias)\n",
        "  def forward(self,x):\n",
        "    query=self.W_k(x)\n",
        "    key=self.W_k(x)\n",
        "    value=self.W_v(x)\n",
        "    attn_matrix=query@key.T\n",
        "    attn_matrix==torch.softmax(attn_matrix/(query.shape[-1]**(0.5)),dim=-1)\n",
        "    context_vec=attn_matrix@value\n",
        "    return context_vec\n"
      ],
      "metadata": {
        "id": "bdy491CH8TDD"
      },
      "execution_count": null,
      "outputs": []
    },
    {
      "cell_type": "code",
      "source": [
        "attn_2=SelfAttention_v2(d_in=3,d_out=2,bias=True)\n",
        "print(attn_2)"
      ],
      "metadata": {
        "colab": {
          "base_uri": "https://localhost:8080/"
        },
        "id": "W_971aDk_vDw",
        "outputId": "1ef5d789-18aa-423f-e48a-8dcfc1e02bbf"
      },
      "execution_count": null,
      "outputs": [
        {
          "output_type": "stream",
          "name": "stdout",
          "text": [
            "SelfAttention_v2(\n",
            "  (W_q): Linear(in_features=3, out_features=2, bias=True)\n",
            "  (W_k): Linear(in_features=3, out_features=2, bias=True)\n",
            "  (W_v): Linear(in_features=3, out_features=2, bias=True)\n",
            ")\n"
          ]
        }
      ]
    },
    {
      "cell_type": "code",
      "source": [
        "print(attn_2(inputs))"
      ],
      "metadata": {
        "colab": {
          "base_uri": "https://localhost:8080/"
        },
        "id": "QIl7-PLe_092",
        "outputId": "841b5556-1489-4f7c-d3a0-fb1d5ed87650"
      },
      "execution_count": null,
      "outputs": [
        {
          "output_type": "stream",
          "name": "stdout",
          "text": [
            "tensor([[-0.0647,  0.1916],\n",
            "        [-0.0287,  0.0800],\n",
            "        [-0.0298,  0.0836],\n",
            "        [-0.0879,  0.2541],\n",
            "        [-0.0847,  0.2551],\n",
            "        [-0.0729,  0.2051]], grad_fn=<MmBackward0>)\n"
          ]
        }
      ]
    },
    {
      "cell_type": "code",
      "source": [
        "print(attn.W_k.shape)\n",
        "print(attn_2.W_k.weight.shape)\n",
        "attn_2.W_k.weight=nn.Parameter(attn.W_k.T)\n",
        "attn_2_W_v=nn.Parameter(attn.W_v.T)\n",
        "attn_2.W_q.weight=nn.Parameter(attn.W_q.T)"
      ],
      "metadata": {
        "colab": {
          "base_uri": "https://localhost:8080/"
        },
        "id": "5daoVlPIAGiJ",
        "outputId": "62e7fec9-f679-40f5-daef-4d1ae03210fd"
      },
      "execution_count": null,
      "outputs": [
        {
          "output_type": "stream",
          "name": "stdout",
          "text": [
            "torch.Size([3, 2])\n",
            "torch.Size([2, 3])\n"
          ]
        }
      ]
    },
    {
      "cell_type": "code",
      "source": [
        "print(attn_2(inputs))"
      ],
      "metadata": {
        "colab": {
          "base_uri": "https://localhost:8080/"
        },
        "id": "xwJb5_Q6BMQ8",
        "outputId": "b6f8ac6b-5a86-4045-81a7-4e13bf1777c8"
      },
      "execution_count": null,
      "outputs": [
        {
          "output_type": "stream",
          "name": "stdout",
          "text": [
            "tensor([[-0.8899,  2.6266],\n",
            "        [-0.2916,  0.9041],\n",
            "        [-0.3102,  0.9590],\n",
            "        [-0.1318,  0.3699],\n",
            "        [-0.6340,  1.8799],\n",
            "        [ 0.0394, -0.1316]], grad_fn=<MmBackward0>)\n"
          ]
        }
      ]
    },
    {
      "cell_type": "markdown",
      "source": [
        "# Causal Attention (Masked Attention)"
      ],
      "metadata": {
        "id": "KT2bPqGttZai"
      }
    },
    {
      "cell_type": "code",
      "source": [
        "class CausalSelfAttention(nn.Module):\n",
        "  def __init__(self,d_in,d_out):\n",
        "    super().__init__()\n",
        "    self.W_q=nn.Linear(d_in,d_out,bias=False)\n",
        "    self.W_k=nn.Linear(d_in,d_out,bias=False)\n",
        "    self.W_v=nn.Linear(d_in,d_out,bias=False)\n",
        "  def forward(self,x):\n",
        "    query=self.W_q(x)\n",
        "    key=self.W_k(x)\n",
        "    value=self.W_v(x)\n",
        "    attn_matrix = query @ key.transpose(-2, -1)\n",
        "    mask = torch.tril(torch.ones_like(attn_matrix))\n",
        "    causal_attn_matrix=attn_matrix * mask\n",
        "    casuall_attn_matrix=torch.softmax(causal_attn_matrix/(query.shape[-1]**(0.5)),dim=-1)\n",
        "    context_vec=causal_attn_matrix@value\n",
        "    return context_vec"
      ],
      "metadata": {
        "id": "7CnQCBA8CMsr"
      },
      "execution_count": null,
      "outputs": []
    },
    {
      "cell_type": "code",
      "source": [
        "c_attn=CausalSelfAttention(d_in=3,d_out=2)\n",
        "print(c_attn(inputs))"
      ],
      "metadata": {
        "colab": {
          "base_uri": "https://localhost:8080/"
        },
        "id": "v0W_TcXdwdAN",
        "outputId": "1e3e0eb4-5c37-4c02-be60-91f5ffd4c623"
      },
      "execution_count": null,
      "outputs": [
        {
          "output_type": "stream",
          "name": "stdout",
          "text": [
            "tensor([[ 0.0249, -0.0391],\n",
            "        [ 0.1294, -0.0391],\n",
            "        [ 0.2253, -0.0248],\n",
            "        [ 0.1397, -0.0065],\n",
            "        [ 0.1271, -0.0250],\n",
            "        [ 0.2971,  0.0187]], grad_fn=<MmBackward0>)\n"
          ]
        }
      ]
    },
    {
      "cell_type": "markdown",
      "source": [
        "# Dropout in Causal Attention"
      ],
      "metadata": {
        "id": "Hk6ryZTRFbm5"
      }
    },
    {
      "cell_type": "code",
      "source": [
        "dropout=torch.nn.Dropout(0.5)\n",
        "example=torch.ones(6,6)\n",
        "print(example)\n",
        "print(dropout(example))"
      ],
      "metadata": {
        "colab": {
          "base_uri": "https://localhost:8080/"
        },
        "id": "v0UT-qVq-w03",
        "outputId": "15a5fba3-36b6-4ad5-8060-11c9ec5946a0"
      },
      "execution_count": null,
      "outputs": [
        {
          "output_type": "stream",
          "name": "stdout",
          "text": [
            "tensor([[1., 1., 1., 1., 1., 1.],\n",
            "        [1., 1., 1., 1., 1., 1.],\n",
            "        [1., 1., 1., 1., 1., 1.],\n",
            "        [1., 1., 1., 1., 1., 1.],\n",
            "        [1., 1., 1., 1., 1., 1.],\n",
            "        [1., 1., 1., 1., 1., 1.]])\n",
            "tensor([[2., 0., 0., 0., 2., 0.],\n",
            "        [2., 2., 2., 0., 2., 0.],\n",
            "        [0., 2., 0., 0., 0., 0.],\n",
            "        [2., 0., 0., 2., 2., 0.],\n",
            "        [0., 2., 0., 0., 0., 0.],\n",
            "        [0., 2., 2., 2., 0., 2.]])\n"
          ]
        }
      ]
    },
    {
      "cell_type": "code",
      "source": [
        "print(dropout(attn_matrix))"
      ],
      "metadata": {
        "colab": {
          "base_uri": "https://localhost:8080/"
        },
        "id": "LBgPZv00FqJz",
        "outputId": "dc2567b6-fc2a-4918-b4bc-322d88945a24"
      },
      "execution_count": null,
      "outputs": [
        {
          "output_type": "stream",
          "name": "stdout",
          "text": [
            "tensor([[1.9990, 0.0000, 0.0000, 0.0000, 0.9152, 0.0000],\n",
            "        [0.0000, 2.9900, 2.9508, 1.6868, 1.4140, 2.1730],\n",
            "        [0.0000, 0.0000, 2.9140, 0.0000, 0.0000, 2.1210],\n",
            "        [0.0000, 1.6868, 1.6592, 0.9874, 0.6948, 0.0000],\n",
            "        [0.0000, 0.0000, 0.0000, 0.0000, 1.3308, 0.5870],\n",
            "        [0.0000, 0.0000, 2.1210, 0.0000, 0.5870, 1.8900]])\n"
          ]
        }
      ]
    },
    {
      "cell_type": "code",
      "source": [
        "batch=torch.stack((inputs,inputs),dim=0)\n",
        "print(batch.shape)"
      ],
      "metadata": {
        "colab": {
          "base_uri": "https://localhost:8080/"
        },
        "id": "i4GsFDczGFUz",
        "outputId": "cd359c36-6801-4950-fd49-9418a9e80481"
      },
      "execution_count": null,
      "outputs": [
        {
          "output_type": "stream",
          "name": "stdout",
          "text": [
            "torch.Size([2, 6, 3])\n"
          ]
        }
      ]
    },
    {
      "cell_type": "code",
      "source": [
        "class CausalSelfAttention_v2(nn.Module):\n",
        "  def __init__(self,d_in,d_out,dropout_value):\n",
        "    super().__init__()\n",
        "    self.W_q=nn.Linear(d_in,d_out,bias=False)\n",
        "    self.W_k=nn.Linear(d_in,d_out,bias=False)\n",
        "    self.W_v=nn.Linear(d_in,d_out,bias=False)\n",
        "    self.dropout=torch.nn.Dropout(dropout_value)\n",
        "  def forward(self,x):\n",
        "    query=self.W_q(x)\n",
        "    key=self.W_k(x)\n",
        "    value=self.W_v(x)\n",
        "    attn_matrix = query @ key.transpose(-2, -1)\n",
        "    mask = torch.tril(torch.ones_like(attn_matrix))\n",
        "    causal_attn_matrix=attn_matrix * mask\n",
        "    casuall_attn_matrix=torch.softmax(causal_attn_matrix/(query.shape[-1]**(0.5)),dim=-1)\n",
        "    casuall_attn_matrix=self.dropout(casuall_attn_matrix)\n",
        "    context_vec=causal_attn_matrix@value\n",
        "    return context_vec"
      ],
      "metadata": {
        "id": "W0rqlhr_Gdd2"
      },
      "execution_count": null,
      "outputs": []
    },
    {
      "cell_type": "code",
      "source": [
        "ca=CausalSelfAttention_v2(d_in=3,d_out=2,dropout_value=0.5)\n",
        "print(ca(batch).shape)"
      ],
      "metadata": {
        "colab": {
          "base_uri": "https://localhost:8080/"
        },
        "id": "5PLOd540IAlP",
        "outputId": "4f244980-bdc8-4ad0-f7ac-30e010c8aa89"
      },
      "execution_count": null,
      "outputs": [
        {
          "output_type": "stream",
          "name": "stdout",
          "text": [
            "torch.Size([2, 6, 2])\n"
          ]
        }
      ]
    },
    {
      "cell_type": "markdown",
      "source": [
        "# MultiHead Self Attention"
      ],
      "metadata": {
        "id": "AH8JQPHTMZh1"
      }
    },
    {
      "cell_type": "code",
      "source": [
        "class MultiHeadAttentionWrapper(nn.Module):\n",
        "  def __init__(self,d_in,d_out,dropout_value,num_heads):\n",
        "    super().__init__()\n",
        "    self.heads=nn.ModuleList([CausalSelfAttention_v2(d_in,d_out,dropout_value) for _ in range(num_heads)])\n",
        "    self.W_o=nn.Linear(d_out*num_heads,d_out)\n",
        "  def forward(self,x):\n",
        "    return torch.cat([head(x) for head in self.heads],dim=-1)       # Concatenated along columns horizontal extend ho jayega\n"
      ],
      "metadata": {
        "id": "za4K2l4nIVB3"
      },
      "execution_count": null,
      "outputs": []
    },
    {
      "cell_type": "code",
      "source": [
        "torch.manual_seed(123)\n",
        "context_length = batch.shape[1] # This is the number of tokens\n",
        "print(batch.shape)\n",
        "d_in, d_out = 3, 2"
      ],
      "metadata": {
        "colab": {
          "base_uri": "https://localhost:8080/"
        },
        "id": "gZE5JOudMYZu",
        "outputId": "f58fec20-6331-4245-e0c0-15a90847dffa"
      },
      "execution_count": null,
      "outputs": [
        {
          "output_type": "stream",
          "name": "stdout",
          "text": [
            "torch.Size([2, 6, 3])\n"
          ]
        }
      ]
    },
    {
      "cell_type": "code",
      "source": [
        "mha=MultiHeadAttentionWrapper(d_in,d_out,0.5,8)\n",
        "context_vecs = mha(batch)\n",
        "print(context_vecs.shape)"
      ],
      "metadata": {
        "colab": {
          "base_uri": "https://localhost:8080/"
        },
        "id": "N3M5xrteMcWT",
        "outputId": "05057214-a383-4cab-e0ca-0f7a819f4a02"
      },
      "execution_count": null,
      "outputs": [
        {
          "output_type": "stream",
          "name": "stdout",
          "text": [
            "torch.Size([2, 6, 16])\n"
          ]
        }
      ]
    },
    {
      "cell_type": "code",
      "source": [
        "class MultiHeadAttention(nn.Module):\n",
        "  def __init__(self,d_in,d_out,n_heads,dropout):\n",
        "    super().__init__()\n",
        "    assert (d_out%n_heads==0) , \"d_out must be divisible by num_heads\"\n",
        "    self.W_k=nn.Linear(d_in,d_out,bias=False)\n",
        "    self.W_q=nn.Linear(d_in,d_out,bias=False)\n",
        "    self.W_v=nn.Linear(d_in,d_out,bias=False)\n",
        "    self.n_heads=n_heads\n",
        "    self.head_dim=d_out//n_heads\n",
        "    self.out_proj = nn.Linear(d_out, d_out)\n",
        "    self.dropout=nn.Dropout(dropout)\n",
        "  def forward(self,x):\n",
        "    queries=self.W_q(x)          # Shape (batch,num_tokens,d_out)\n",
        "    keys=self.W_k(x)            # Shape (batch,num_tokens,d_out)\n",
        "    values=self.W_v(x)          # Shape (batch,num_tokens,d_out)\n",
        "    keys=keys.view(keys.shape[0],keys.shape[1],self.n_heads,self.head_dim)                        # Shape (batch,num_tokens,n_heads,head_dim)\n",
        "    queries=queries.view(queries.shape[0],queries.shape[1],self.n_heads,self.head_dim)            # Shape (batch,num_tokens,n_heads,head_dim)\n",
        "    values=values.view(values.shape[0],values.shape[1],self.n_heads,self.head_dim)                # Shape (batch,num_tokens,n_heads,head_dim)\n",
        "    keys=keys.transpose(1,2)                                                                    # Shape (batch,n_heads,num_tokens,head_dim)\n",
        "    queries=queries.transpose(1,2)                                                              # Shape (batch,n_heads,num_tokens,head_dim)\n",
        "    values=values.transpose(1,2)                                                                # Shape (batch,n_heads,num_tokens,head_dim)\n",
        "    attn_matrix=queries@keys.transpose(-2,-1)                         # Shape (batch,n_heads,num_tokens,n_tokens)\n",
        "    attn_matrix=attn_matrix/(self.head_dim**(0.5))\n",
        "    mask=torch.tril(torch.ones_like(attn_matrix))\n",
        "    attn_matrix=attn_matrix*mask\n",
        "    attn_matrix=torch.softmax(attn_matrix,dim=-1)\n",
        "    attn_matrix=self.dropout(attn_matrix)\n",
        "    context_vec=(attn_matrix@values)                          # Shape (batch,n_heads,num_tokens,head_dim)\n",
        "    context_vec=context_vec.transpose(1,2)                   # Shape (batch,num_tokens,n_heads,head_dim)\n",
        "    context_vec=context_vec.contiguous().view(context_vec.shape[0],context_vec.shape[1],self.n_heads*self.head_dim) # Shape (batch,num_tokens,d_out)\n",
        "    return self.out_proj(context_vec)\n"
      ],
      "metadata": {
        "id": "usewVCfZN-eO"
      },
      "execution_count": null,
      "outputs": []
    },
    {
      "cell_type": "code",
      "source": [
        "torch.manual_seed(123)\n",
        "batch_size, context_length, d_in = batch.shape\n",
        "d_out = 2\n",
        "mha = MultiHeadAttention(d_in, d_out,n_heads=2,dropout=0.5)\n",
        "print(mha)\n",
        "context_vecs = mha(batch)\n",
        "print(context_vecs)\n",
        "print(\"context_vecs.shape:\", context_vecs.shape)"
      ],
      "metadata": {
        "colab": {
          "base_uri": "https://localhost:8080/"
        },
        "id": "isnqxKdYk9dA",
        "outputId": "f3816293-6016-4308-85b0-3bd8636d4f63"
      },
      "execution_count": null,
      "outputs": [
        {
          "output_type": "stream",
          "name": "stdout",
          "text": [
            "MultiHeadAttention(\n",
            "  (W_k): Linear(in_features=3, out_features=2, bias=False)\n",
            "  (W_q): Linear(in_features=3, out_features=2, bias=False)\n",
            "  (W_v): Linear(in_features=3, out_features=2, bias=False)\n",
            "  (out_proj): Linear(in_features=2, out_features=2, bias=True)\n",
            "  (dropout): Dropout(p=0.5, inplace=False)\n",
            ")\n",
            "tensor([[[0.2612, 0.4112],\n",
            "         [0.2502, 0.4808],\n",
            "         [0.2525, 0.3365],\n",
            "         [0.2361, 0.4074],\n",
            "         [0.2865, 0.3215],\n",
            "         [0.2815, 0.3406]],\n",
            "\n",
            "        [[0.2427, 0.4002],\n",
            "         [0.2255, 0.4704],\n",
            "         [0.3056, 0.2625],\n",
            "         [0.2032, 0.5170],\n",
            "         [0.2207, 0.4779],\n",
            "         [0.2960, 0.3486]]], grad_fn=<ViewBackward0>)\n",
            "context_vecs.shape: torch.Size([2, 6, 2])\n"
          ]
        }
      ]
    },
    {
      "cell_type": "code",
      "source": [],
      "metadata": {
        "id": "MU-CvGZzlJtx"
      },
      "execution_count": null,
      "outputs": []
    }
  ]
}